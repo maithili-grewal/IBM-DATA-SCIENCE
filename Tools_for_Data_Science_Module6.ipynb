{
  "nbformat": 4,
  "nbformat_minor": 0,
  "metadata": {
    "colab": {
      "provenance": []
    },
    "kernelspec": {
      "name": "python3",
      "display_name": "Python 3"
    },
    "language_info": {
      "name": "python"
    }
  },
  "cells": [
    {
      "cell_type": "markdown",
      "source": [
        "# Data Science Tools and Ecosystem"
      ],
      "metadata": {
        "id": "YVooTIXUyFun"
      }
    },
    {
      "cell_type": "markdown",
      "source": [
        "In this notebook, Data Science Tools and Ecosystem are summarized.\n"
      ],
      "metadata": {
        "id": "2z_sS3AtyJ9z"
      }
    },
    {
      "cell_type": "markdown",
      "source": [
        "# Data Science Languages\n",
        "\n",
        "Some of the popular languages that Data Scientists use are:\n",
        "\n",
        "1. Python\n",
        "\n",
        "2. R\n",
        "\n",
        "3. SQL\n",
        "\n",
        "4. Julia\n",
        "\n",
        "5. Scala"
      ],
      "metadata": {
        "id": "yYN908edyTeZ"
      }
    },
    {
      "cell_type": "markdown",
      "source": [
        "# Data Science Libraries\n",
        "\n",
        "Some of the commonly used libraries used by Data Scientists include:\n",
        "\n",
        "1. NumPy\n",
        "\n",
        "2. Pandas\n",
        "\n",
        "3. Scikit-learn\n",
        "\n",
        "4. TensorFlow\n",
        "\n",
        "5. Matplotlib"
      ],
      "metadata": {
        "id": "CZbhJLgJybjx"
      }
    },
    {
      "cell_type": "markdown",
      "source": [
        "## Data Science Tools\n",
        "\n",
        "| Tool            | Description                         |\n",
        "|----------------|-------------------------------------|\n",
        "| Jupyter Notebook | Interactive computing environment |\n",
        "| RStudio        | IDE for R programming              |\n",
        "| Apache Spark   | Big data processing                |\n",
        "| TensorFlow     | Machine learning framework         |\n",
        "| Tableau        | Data visualization                 |\n"
      ],
      "metadata": {
        "id": "o3lqL__Ezn5h"
      }
    },
    {
      "cell_type": "markdown",
      "source": [
        "# Arithmetic Expression Examples\n",
        "\n",
        "## Below are a few examples of evaluating arithmetic expressions in Python.\n",
        "\n"
      ],
      "metadata": {
        "id": "EOMRKyAEymnN"
      }
    },
    {
      "cell_type": "markdown",
      "source": [
        "## Multiplication and Addition Example"
      ],
      "metadata": {
        "id": "Zk84e-tiyrRP"
      }
    },
    {
      "cell_type": "code",
      "execution_count": 3,
      "metadata": {
        "colab": {
          "base_uri": "https://localhost:8080/"
        },
        "id": "LkTBn8Esv08H",
        "outputId": "f959fd3a-2e3d-4488-f786-f2adbb22fcd6"
      },
      "outputs": [
        {
          "output_type": "stream",
          "name": "stdout",
          "text": [
            "17\n"
          ]
        }
      ],
      "source": [
        "result = (3 * 4) + 5\n",
        "print(result)"
      ]
    },
    {
      "cell_type": "markdown",
      "source": [
        "## Convert Minutes to Hours"
      ],
      "metadata": {
        "id": "r0hMXU4Dy2H8"
      }
    },
    {
      "cell_type": "code",
      "source": [
        "minutes = 200\n",
        "hours = minutes / 60\n",
        "print(hours)"
      ],
      "metadata": {
        "colab": {
          "base_uri": "https://localhost:8080/"
        },
        "id": "zStm9AA3ywzK",
        "outputId": "e8b5d84d-61f1-4cf8-8e51-334aa2a9413c"
      },
      "execution_count": 4,
      "outputs": [
        {
          "output_type": "stream",
          "name": "stdout",
          "text": [
            "3.3333333333333335\n"
          ]
        }
      ]
    },
    {
      "cell_type": "markdown",
      "source": [
        "# Objectives\n",
        "\n",
        "* List popular languages for Data Science\n",
        "\n",
        "* Identify commonly used libraries in Data Science\n",
        "\n",
        "* Describe key Data Science tools\n",
        "\n",
        "* Perform basic arithmetic operations in Python\n",
        "\n",
        "* Convert time units using Python"
      ],
      "metadata": {
        "id": "2rLeJYLjy_nR"
      }
    },
    {
      "cell_type": "markdown",
      "source": [
        "#  Author\n",
        "\n",
        "Maithili Grewal"
      ],
      "metadata": {
        "id": "RYeHIt9kzI33"
      }
    }
  ]
}